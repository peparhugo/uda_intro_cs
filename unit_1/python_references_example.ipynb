{
 "cells": [
  {
   "cell_type": "markdown",
   "metadata": {},
   "source": [
    "Addition"
   ]
  },
  {
   "cell_type": "code",
   "execution_count": 1,
   "metadata": {
    "collapsed": false
   },
   "outputs": [
    {
     "data": {
      "text/plain": [
       "2"
      ]
     },
     "execution_count": 1,
     "metadata": {},
     "output_type": "execute_result"
    }
   ],
   "source": [
    "1+1"
   ]
  },
  {
   "cell_type": "markdown",
   "metadata": {},
   "source": [
    "Subraction"
   ]
  },
  {
   "cell_type": "code",
   "execution_count": 2,
   "metadata": {
    "collapsed": false
   },
   "outputs": [
    {
     "data": {
      "text/plain": [
       "0"
      ]
     },
     "execution_count": 2,
     "metadata": {},
     "output_type": "execute_result"
    }
   ],
   "source": [
    "1-1"
   ]
  },
  {
   "cell_type": "markdown",
   "metadata": {},
   "source": [
    "Mutliplication"
   ]
  },
  {
   "cell_type": "code",
   "execution_count": 3,
   "metadata": {
    "collapsed": false
   },
   "outputs": [
    {
     "data": {
      "text/plain": [
       "4"
      ]
     },
     "execution_count": 3,
     "metadata": {},
     "output_type": "execute_result"
    }
   ],
   "source": [
    "2*2"
   ]
  },
  {
   "cell_type": "markdown",
   "metadata": {},
   "source": [
    "Division"
   ]
  },
  {
   "cell_type": "code",
   "execution_count": 8,
   "metadata": {
    "collapsed": false
   },
   "outputs": [
    {
     "name": "stdout",
     "output_type": "stream",
     "text": [
      "0\n",
      "0.75\n",
      "0.0\n"
     ]
    }
   ],
   "source": [
    "print 3/4 #truncates\n",
    "print float(3)/4 #explicit float output\n",
    "print float(3/4) #does not work as intended, truncates, then changes to float"
   ]
  },
  {
   "cell_type": "markdown",
   "metadata": {},
   "source": [
    "Assignment"
   ]
  },
  {
   "cell_type": "code",
   "execution_count": 9,
   "metadata": {
    "collapsed": false
   },
   "outputs": [
    {
     "name": "stdout",
     "output_type": "stream",
     "text": [
      "1\n"
     ]
    }
   ],
   "source": [
    "x = 1\n",
    "print x"
   ]
  },
  {
   "cell_type": "markdown",
   "metadata": {},
   "source": [
    "Multiple Assigment"
   ]
  },
  {
   "cell_type": "code",
   "execution_count": 10,
   "metadata": {
    "collapsed": false
   },
   "outputs": [
    {
     "name": "stdout",
     "output_type": "stream",
     "text": [
      "2\n",
      "3\n"
     ]
    }
   ],
   "source": [
    "y,z=2,3\n",
    "print y\n",
    "print z"
   ]
  },
  {
   "cell_type": "markdown",
   "metadata": {},
   "source": [
    "Multiple Assignments order, evaluated on expressions then assign values, so y-x is 2-1 because x,y,z on left side are orginal assignments"
   ]
  },
  {
   "cell_type": "code",
   "execution_count": 11,
   "metadata": {
    "collapsed": false
   },
   "outputs": [
    {
     "name": "stdout",
     "output_type": "stream",
     "text": [
      "2\n",
      "3\n",
      "1\n"
     ]
    }
   ],
   "source": [
    "x,y,z=y,z,y-x\n",
    "print x\n",
    "print y\n",
    "print z"
   ]
  },
  {
   "cell_type": "markdown",
   "metadata": {},
   "source": [
    "Strinc Concatenation"
   ]
  },
  {
   "cell_type": "code",
   "execution_count": 12,
   "metadata": {
    "collapsed": false
   },
   "outputs": [
    {
     "name": "stdout",
     "output_type": "stream",
     "text": [
      "hello world!\n"
     ]
    }
   ],
   "source": [
    "i= \"hello \"\n",
    "j = 'world!'\n",
    "print i + j"
   ]
  },
  {
   "cell_type": "markdown",
   "metadata": {},
   "source": [
    "String Multiplication"
   ]
  },
  {
   "cell_type": "code",
   "execution_count": 13,
   "metadata": {
    "collapsed": false
   },
   "outputs": [
    {
     "name": "stdout",
     "output_type": "stream",
     "text": [
      "hello hello world!world!\n"
     ]
    }
   ],
   "source": [
    "print i*2 + j*2"
   ]
  },
  {
   "cell_type": "code",
   "execution_count": 17,
   "metadata": {
    "collapsed": false
   },
   "outputs": [
    {
     "data": {
      "text/plain": [
       "'o'"
      ]
     },
     "execution_count": 17,
     "metadata": {},
     "output_type": "execute_result"
    }
   ],
   "source": [
    "j[1:2]"
   ]
  },
  {
   "cell_type": "code",
   "execution_count": 18,
   "metadata": {
    "collapsed": false
   },
   "outputs": [
    {
     "name": "stdout",
     "output_type": "stream",
     "text": [
      "world\n"
     ]
    }
   ],
   "source": [
    "print j[:-1]"
   ]
  },
  {
   "cell_type": "code",
   "execution_count": 19,
   "metadata": {
    "collapsed": false
   },
   "outputs": [
    {
     "name": "stdout",
     "output_type": "stream",
     "text": [
      "http://udacity.com\n"
     ]
    }
   ],
   "source": [
    "# page = contents of a web page\n",
    "page =('<div id=\"top_bin\"><div id=\"top_content\" class=\"width960\">'\n",
    "'<div class=\"udacity float-left\"><a href=\"http://udacity.com\">')\n",
    "link_start_string = '<a href='\n",
    "start_link = page.find(link_start_string)\n",
    "end_link = page.find('\"', start_link+len(link_start_string)+2)\n",
    "url = page[start_link+len(link_start_string)+1:end_link]\n",
    "print url"
   ]
  },
  {
   "cell_type": "markdown",
   "metadata": {},
   "source": [
    "Alter code for no link"
   ]
  },
  {
   "cell_type": "code",
   "execution_count": 20,
   "metadata": {
    "collapsed": true
   },
   "outputs": [],
   "source": [
    "def get_next_target(page):\n",
    "    start_link = page.find('<a href=')\n",
    "\n",
    "    if start_link==-1:\n",
    "        return None, 0\n",
    "    else:\n",
    "        start_quote = page.find('\"', start_link)\n",
    "        end_quote = page.find('\"', start_quote + 1)\n",
    "        url = page[start_quote + 1:end_quote]\n",
    "        return url, end_quote\n",
    "                 "
   ]
  },
  {
   "cell_type": "code",
   "execution_count": 23,
   "metadata": {
    "collapsed": false
   },
   "outputs": [
    {
     "ename": "AttributeError",
     "evalue": "'NoneType' object has no attribute 'extend'",
     "output_type": "error",
     "traceback": [
      "\u001b[0;31m\u001b[0m",
      "\u001b[0;31mAttributeError\u001b[0mTraceback (most recent call last)",
      "\u001b[0;32m<ipython-input-23-0f1078a86263>\u001b[0m in \u001b[0;36m<module>\u001b[0;34m()\u001b[0m\n\u001b[1;32m      9\u001b[0m         \u001b[0mlist_s\u001b[0m \u001b[1;33m=\u001b[0m \u001b[0mlist_s\u001b[0m\u001b[1;33m.\u001b[0m\u001b[0mextend\u001b[0m\u001b[1;33m(\u001b[0m\u001b[1;33m[\u001b[0m\u001b[0ms\u001b[0m\u001b[1;33m]\u001b[0m\u001b[1;33m)\u001b[0m\u001b[1;33m\u001b[0m\u001b[0m\n\u001b[1;32m     10\u001b[0m     \u001b[1;32mreturn\u001b[0m \u001b[0mtuple\u001b[0m\u001b[1;33m(\u001b[0m\u001b[0mlist_s\u001b[0m\u001b[1;33m)\u001b[0m\u001b[1;33m\u001b[0m\u001b[0m\n\u001b[0;32m---> 11\u001b[0;31m \u001b[1;32mprint\u001b[0m \u001b[0mstamps\u001b[0m\u001b[1;33m(\u001b[0m\u001b[1;36m8\u001b[0m\u001b[1;33m)\u001b[0m\u001b[1;33m\u001b[0m\u001b[0m\n\u001b[0m",
      "\u001b[0;32m<ipython-input-23-0f1078a86263>\u001b[0m in \u001b[0;36mstamps\u001b[0;34m(n)\u001b[0m\n\u001b[1;32m      7\u001b[0m             \u001b[0ms\u001b[0m\u001b[1;33m+=\u001b[0m\u001b[1;36m1\u001b[0m\u001b[1;33m\u001b[0m\u001b[0m\n\u001b[1;32m      8\u001b[0m             \u001b[0mn\u001b[0m\u001b[1;33m-=\u001b[0m\u001b[0mi\u001b[0m\u001b[1;33m\u001b[0m\u001b[0m\n\u001b[0;32m----> 9\u001b[0;31m         \u001b[0mlist_s\u001b[0m \u001b[1;33m=\u001b[0m \u001b[0mlist_s\u001b[0m\u001b[1;33m.\u001b[0m\u001b[0mextend\u001b[0m\u001b[1;33m(\u001b[0m\u001b[1;33m[\u001b[0m\u001b[0ms\u001b[0m\u001b[1;33m]\u001b[0m\u001b[1;33m)\u001b[0m\u001b[1;33m\u001b[0m\u001b[0m\n\u001b[0m\u001b[1;32m     10\u001b[0m     \u001b[1;32mreturn\u001b[0m \u001b[0mtuple\u001b[0m\u001b[1;33m(\u001b[0m\u001b[0mlist_s\u001b[0m\u001b[1;33m)\u001b[0m\u001b[1;33m\u001b[0m\u001b[0m\n\u001b[1;32m     11\u001b[0m \u001b[1;32mprint\u001b[0m \u001b[0mstamps\u001b[0m\u001b[1;33m(\u001b[0m\u001b[1;36m8\u001b[0m\u001b[1;33m)\u001b[0m\u001b[1;33m\u001b[0m\u001b[0m\n",
      "\u001b[0;31mAttributeError\u001b[0m: 'NoneType' object has no attribute 'extend'"
     ]
    }
   ],
   "source": [
    "def stamps(n):\n",
    "    list_s=[None]\n",
    "    stamps=[5,2,1]\n",
    "    for i in stamps:\n",
    "        s=0\n",
    "        while n>i:\n",
    "            s+=1\n",
    "            n-=i\n",
    "        list_s = list_s.extend([s])\n",
    "    return tuple(list_s)\n",
    "print stamps(8)"
   ]
  },
  {
   "cell_type": "code",
   "execution_count": 31,
   "metadata": {
    "collapsed": true
   },
   "outputs": [],
   "source": [
    "def get_all_links(page):\n",
    "    url_list=[]\n",
    "    while True:\n",
    "        url, endpos = get_next_target(page)\n",
    "        if url:\n",
    "            url_list.append(url)\n",
    "            page=page[endpos:]\n",
    "        else:\n",
    "            break\n",
    "    return url_list"
   ]
  },
  {
   "cell_type": "code",
   "execution_count": 32,
   "metadata": {
    "collapsed": false
   },
   "outputs": [
    {
     "name": "stdout",
     "output_type": "stream",
     "text": [
      "['http://www.udacity.com/cs101x/crawling.html', 'http://www.udacity.com/cs101x/walking.html', 'http://www.udacity.com/cs101x/flying.html']\n"
     ]
    }
   ],
   "source": [
    "def get_page(url):\n",
    "    try:\n",
    "        import urllib\n",
    "        return urllib.urlopen(url).read()\n",
    "\n",
    "    except:\n",
    "        return \"error\"\n",
    "print get_all_links(get_page(\"http://www.udacity.com/cs101x/index.html\"))"
   ]
  },
  {
   "cell_type": "code",
   "execution_count": 44,
   "metadata": {
    "collapsed": false
   },
   "outputs": [
    {
     "name": "stdout",
     "output_type": "stream",
     "text": [
      "[]\n"
     ]
    }
   ],
   "source": [
    "print get_all_links(get_page(\"http://www.udacity.com/cs101x/crawling.html\"))"
   ]
  },
  {
   "cell_type": "code",
   "execution_count": 39,
   "metadata": {
    "collapsed": true
   },
   "outputs": [],
   "source": [
    "def crawl_web(seed):\n",
    "    tocrawl=[seed]\n",
    "    crawled=[]\n",
    "    while len(tocrawl)!=0:\n",
    "        for i in tocrawl:\n",
    "            print i\n",
    "            seed_links=get_all_links(get_page(i))\n",
    "            print seed_links\n",
    "            crawled.append(tocrawl.pop(tocrawl.index(i)))\n",
    "            for j in seed_links:\n",
    "                if j in crawled:\n",
    "                    seed_links.pop(seed_links.index(j))\n",
    "            tocrawl.extend(seed_links)\n",
    "    return crawled\n"
   ]
  },
  {
   "cell_type": "code",
   "execution_count": 41,
   "metadata": {
    "collapsed": false
   },
   "outputs": [
    {
     "name": "stdout",
     "output_type": "stream",
     "text": [
      "http://www.udacity.com/cs101x/index.html\n",
      "['http://www.udacity.com/cs101x/crawling.html', 'http://www.udacity.com/cs101x/walking.html', 'http://www.udacity.com/cs101x/flying.html']\n",
      "http://www.udacity.com/cs101x/walking.html\n",
      "[]\n",
      "http://www.udacity.com/cs101x/crawling.html\n",
      "[]\n",
      "http://www.udacity.com/cs101x/flying.html\n",
      "[]\n",
      "['http://www.udacity.com/cs101x/index.html', 'http://www.udacity.com/cs101x/walking.html', 'http://www.udacity.com/cs101x/crawling.html', 'http://www.udacity.com/cs101x/flying.html']\n"
     ]
    }
   ],
   "source": [
    "crawled_links = crawl_web(\"http://www.udacity.com/cs101x/index.html\")\n",
    "print crawled_links"
   ]
  },
  {
   "cell_type": "code",
   "execution_count": 65,
   "metadata": {
    "collapsed": true
   },
   "outputs": [],
   "source": [
    "def union(a,b):\n",
    "    for i in b:\n",
    "        if i in a:\n",
    "            b.pop(b.index(i))\n",
    "    a.extend(b)"
   ]
  },
  {
   "cell_type": "code",
   "execution_count": 70,
   "metadata": {
    "collapsed": false
   },
   "outputs": [],
   "source": [
    "def crawl_web_alt(seed):\n",
    "    tocrawl=[seed]\n",
    "    crawled=[]\n",
    "    while tocrawl:\n",
    "        page=tocrawl.pop()\n",
    "        if page not in crawled:\n",
    "            union(tocrawl,get_all_links(get_page(page)))\n",
    "            print page\n",
    "            crawled.append(page)\n",
    "    return crawled"
   ]
  },
  {
   "cell_type": "code",
   "execution_count": 73,
   "metadata": {
    "collapsed": false
   },
   "outputs": [
    {
     "name": "stdout",
     "output_type": "stream",
     "text": [
      "http://www.udacity.com/cs101x/index.html\n",
      "http://www.udacity.com/cs101x/flying.html\n",
      "http://www.udacity.com/cs101x/walking.html\n",
      "http://www.udacity.com/cs101x/crawling.html\n",
      "['http://www.udacity.com/cs101x/index.html', 'http://www.udacity.com/cs101x/flying.html', 'http://www.udacity.com/cs101x/walking.html', 'http://www.udacity.com/cs101x/crawling.html']\n"
     ]
    }
   ],
   "source": [
    "crawled_links = crawl_web_alt(\"http://www.udacity.com/cs101x/index.html\")\n",
    "print crawled_links"
   ]
  },
  {
   "cell_type": "code",
   "execution_count": 77,
   "metadata": {
    "collapsed": false
   },
   "outputs": [
    {
     "name": "stdout",
     "output_type": "stream",
     "text": [
      "http://www.udacity.com/cs101x/index.html\n",
      "['http://www.udacity.com/cs101x/crawling.html', 'http://www.udacity.com/cs101x/walking.html', 'http://www.udacity.com/cs101x/flying.html']\n",
      "http://www.udacity.com/cs101x/walking.html\n",
      "[]\n",
      "http://www.udacity.com/cs101x/crawling.html\n",
      "[]\n",
      "http://www.udacity.com/cs101x/flying.html\n",
      "[]\n",
      "['http://www.udacity.com/cs101x/index.html', 'http://www.udacity.com/cs101x/walking.html', 'http://www.udacity.com/cs101x/crawling.html', 'http://www.udacity.com/cs101x/flying.html']\n"
     ]
    }
   ],
   "source": [
    "crawled_links = crawl_web(\"http://www.udacity.com/cs101x/index.html\")\n",
    "print crawled_links"
   ]
  },
  {
   "cell_type": "code",
   "execution_count": 78,
   "metadata": {
    "collapsed": true
   },
   "outputs": [],
   "source": [
    "def crawl_web(seed,max_depth):    \n",
    "    tocrawl = [seed]\n",
    "    crawled = []\n",
    "    next_depth = []\n",
    "    depth = 0\n",
    "    while tocrawl and depth <= max_depth:\n",
    "        page = tocrawl.pop()\n",
    "        if page not in crawled:\n",
    "            union(next_depth, get_all_links(get_page(page)))\n",
    "            crawled.append(page)\n",
    "        if not tocrawl:\n",
    "            tocrawl, next_depth = next_depth, []\n",
    "            depth = depth + 1\n",
    "    return crawled"
   ]
  },
  {
   "cell_type": "code",
   "execution_count": 79,
   "metadata": {
    "collapsed": false
   },
   "outputs": [
    {
     "name": "stdout",
     "output_type": "stream",
     "text": [
      "False\n",
      "True\n",
      "False\n",
      "False\n",
      "False\n",
      "False\n"
     ]
    }
   ],
   "source": [
    "# THREE GOLD STARS\n",
    "\n",
    "# Sudoku [http://en.wikipedia.org/wiki/Sudoku]\n",
    "# is a logic puzzle where a game\n",
    "# is defined by a partially filled\n",
    "# 9 x 9 square of digits where each square\n",
    "# contains one of the digits 1,2,3,4,5,6,7,8,9.\n",
    "# For this question we will generalize\n",
    "# and simplify the game.\n",
    "\n",
    "# Define a procedure, check_sudoku,\n",
    "# that takes as input a square list\n",
    "# of lists representing an n x n\n",
    "# sudoku puzzle solution and returns the boolean\n",
    "# True if the input is a valid\n",
    "# sudoku square and returns the boolean False\n",
    "# otherwise.\n",
    "\n",
    "# A valid sudoku square satisfies these\n",
    "# two properties:\n",
    "\n",
    "#   1. Each column of the square contains\n",
    "#       each of the whole numbers from 1 to n exactly once.\n",
    "\n",
    "#   2. Each row of the square contains each\n",
    "#       of the whole numbers from 1 to n exactly once.\n",
    "\n",
    "# You may assume the the input is square and contains at\n",
    "# least one row and column.\n",
    "\n",
    "correct = [[1,2,3],\n",
    "           [2,3,1],\n",
    "           [3,1,2]]\n",
    "\n",
    "incorrect = [[1,2,3,4],\n",
    "             [2,3,1,3],\n",
    "             [3,1,2,3],\n",
    "             [4,4,4,4]]\n",
    "\n",
    "incorrect2 = [[1,2,3,4],\n",
    "             [2,3,1,4],\n",
    "             [4,1,2,3],\n",
    "             [3,4,1,2]]\n",
    "\n",
    "incorrect3 = [[1,2,3,4,5],\n",
    "              [2,3,1,5,6],\n",
    "              [4,5,2,1,3],\n",
    "              [3,4,5,2,1],\n",
    "              [5,6,4,3,2]]\n",
    "\n",
    "incorrect4 = [['a','b','c'],\n",
    "              ['b','c','a'],\n",
    "              ['c','a','b']]\n",
    "\n",
    "incorrect5 = [ [1, 1.5],\n",
    "               [1.5, 1]]\n",
    "               \n",
    "def check_sudoku(target):\n",
    "    if len(target) == len(target[0]):\n",
    "        for i in target:\n",
    "            for k in range(1,len(i)+1):\n",
    "                    if k not in i:\n",
    "                        return False\n",
    "        for i in map(list, zip(*target)):\n",
    "            for k in range(1,len(i)+1):\n",
    "                    if k not in i:\n",
    "                        return False\n",
    "    else:\n",
    "        return False\n",
    "    return True\n",
    "\n",
    "\n",
    "    \n",
    "    \n",
    "print check_sudoku(incorrect)\n",
    "#>>> False\n",
    "\n",
    "print check_sudoku(correct)\n",
    "#>>> True\n",
    "\n",
    "print check_sudoku(incorrect2)\n",
    "#>>> False\n",
    "\n",
    "print check_sudoku(incorrect3)\n",
    "#>>> False\n",
    "\n",
    "print check_sudoku(incorrect4)\n",
    "#>>> False\n",
    "\n",
    "print check_sudoku(incorrect5)\n",
    "#>>> False\n",
    "\n",
    "\n"
   ]
  },
  {
   "cell_type": "code",
   "execution_count": 80,
   "metadata": {
    "collapsed": false
   },
   "outputs": [
    {
     "name": "stdout",
     "output_type": "stream",
     "text": [
      "[['udacity', ['http://udacity.com', 'http://npr.org']], ['computing', ['http://acm.org']]]\n"
     ]
    }
   ],
   "source": [
    "# Define a procedure, add_to_index,\n",
    "# that takes 3 inputs:\n",
    "\n",
    "# - an index: [[<keyword>,[<url>,...]],...]\n",
    "# - a keyword: String\n",
    "# - a url: String\n",
    "\n",
    "# If the keyword is already\n",
    "# in the index, add the url\n",
    "# to the list of urls associated\n",
    "# with that keyword.\n",
    "\n",
    "# If the keyword is not in the index,\n",
    "# add an entry to the index: [keyword,[url]]\n",
    "\n",
    "index = []\n",
    "\n",
    "def add_to_index(index,keyword,url):\n",
    "    for e in index:\n",
    "        if e[0]==keyword:\n",
    "            e[1].append(url)\n",
    "            return\n",
    "    index.append([keyword,[url]])\n",
    "\n",
    "\n",
    "\n",
    "\n",
    "\n",
    "add_to_index(index,'udacity','http://udacity.com')\n",
    "add_to_index(index,'computing','http://acm.org')\n",
    "add_to_index(index,'udacity','http://npr.org')\n",
    "print index\n",
    "#>>> [['udacity', ['http://udacity.com', 'http://npr.org']], \n",
    "#>>> ['computing', ['http://acm.org']]]\n",
    "\n",
    "\n"
   ]
  },
  {
   "cell_type": "code",
   "execution_count": 82,
   "metadata": {
    "collapsed": false
   },
   "outputs": [
    {
     "name": "stdout",
     "output_type": "stream",
     "text": [
      "['http://udacity.com', 'http://npr.org']\n"
     ]
    }
   ],
   "source": [
    "# Define a procedure, lookup,\n",
    "# that takes two inputs:\n",
    "\n",
    "# - an index\n",
    "# - keyword\n",
    "\n",
    "# The procedure should return a list\n",
    "# of the urls associated\n",
    "# with the keyword. If the keyword\n",
    "# is not in the index, the procedure\n",
    "# should return an empty list.\n",
    "\n",
    "index = [['udacity', ['http://udacity.com', 'http://npr.org']],\n",
    "         ['computing', ['http://acm.org']]]\n",
    "\n",
    "def lookup(index,keyword):\n",
    "    for e in index:\n",
    "        if e[0]==keyword:\n",
    "            return e[1]\n",
    "    return []\n",
    "\n",
    "\n",
    "\n",
    "\n",
    "\n",
    "\n",
    "print lookup(index,'udacity')\n",
    "#>>> ['http://udacity.com','http://npr.org']"
   ]
  },
  {
   "cell_type": "code",
   "execution_count": 83,
   "metadata": {
    "collapsed": true
   },
   "outputs": [],
   "source": [
    "# Define a procedure, add_page_to_index,\n",
    "# that takes three inputs:\n",
    "\n",
    "#   - index\n",
    "#   - url (String)\n",
    "#   - content (String)\n",
    "\n",
    "# It should update the index to include\n",
    "# all of the word occurences found in the\n",
    "# page content by adding the url to the\n",
    "# word's associated url list.\n",
    "\n",
    "index = []\n",
    "\n",
    "\n",
    "def add_to_index(index,keyword,url):\n",
    "    for entry in index:\n",
    "        if entry[0] == keyword:\n",
    "            entry[1].append(url)\n",
    "            return\n",
    "    index.append([keyword,[url]])\n",
    "\n",
    "def add_page_to_index(index,url,content):\n",
    "    content_split = content.split()\n",
    "    for keyword in content_split:\n",
    "        add_to_index(index,keyword,url)\n",
    "    \n",
    "\n",
    "\n",
    "\n",
    "\n",
    "#add_page_to_index(index,'fake.text',\"This is a test\")\n",
    "#print index\n",
    "#>>> [['This', ['fake.text']], ['is', ['fake.text']], ['a', ['fake.text']],\n",
    "#>>> ['test',['fake.text']]]\n",
    "\n",
    "\n"
   ]
  },
  {
   "cell_type": "markdown",
   "metadata": {},
   "source": [
    "Quiz: Finishing The Web Crawler\n",
    "If you want to refresh your memory, we originally defined the crawl_web procedure at the end of the previous lesson.\n",
    "\n",
    "Some of the previous code you've just recently written looks like so:\n",
    "\n",
    "def add_to_index(index, keyword, url):\n",
    "    for entry in index:\n",
    "        if entry[0] == keyword:\n",
    "            entry[1].append(url)\n",
    "            return\n",
    "    index.append([keyword, [url]])\n",
    "\n",
    "def lookup(index, keyword):\n",
    "    for entry in index:\n",
    "        if entry[0] == keyword:\n",
    "            return entry[1]\n",
    "    return []\n",
    "\n",
    "def add_page_to_index(index, url, content):\n",
    "    words = content.split()\n",
    "    for word in words:\n",
    "        add_to_index(index, word, url)"
   ]
  },
  {
   "cell_type": "code",
   "execution_count": null,
   "metadata": {
    "collapsed": true
   },
   "outputs": [],
   "source": []
  }
 ],
 "metadata": {
  "anaconda-cloud": {},
  "kernelspec": {
   "display_name": "Python [conda root]",
   "language": "python",
   "name": "conda-root-py"
  },
  "language_info": {
   "codemirror_mode": {
    "name": "ipython",
    "version": 2
   },
   "file_extension": ".py",
   "mimetype": "text/x-python",
   "name": "python",
   "nbconvert_exporter": "python",
   "pygments_lexer": "ipython2",
   "version": "2.7.12"
  }
 },
 "nbformat": 4,
 "nbformat_minor": 1
}
